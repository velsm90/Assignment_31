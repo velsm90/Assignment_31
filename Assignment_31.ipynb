{
 "cells": [
  {
   "cell_type": "markdown",
   "metadata": {},
   "source": [
    "## Assignment 30 - PCA Iris data"
   ]
  },
  {
   "cell_type": "markdown",
   "metadata": {},
   "source": [
    "Import Libraries"
   ]
  },
  {
   "cell_type": "code",
   "execution_count": null,
   "metadata": {},
   "outputs": [],
   "source": [
    "import numpy as np\n",
    "import matplotlib.pyplot as plt\n",
    "from mpl_toolkits.mplot3d import Axes3D\n",
    "from sklearn import decomposition\n",
    "from sklearn import datasets"
   ]
  },
  {
   "cell_type": "markdown",
   "metadata": {},
   "source": [
    "Load data"
   ]
  },
  {
   "cell_type": "code",
   "execution_count": 3,
   "metadata": {},
   "outputs": [],
   "source": [
    "iris = datasets.load_iris()"
   ]
  },
  {
   "cell_type": "code",
   "execution_count": 4,
   "metadata": {},
   "outputs": [],
   "source": [
    "data= iris.data"
   ]
  },
  {
   "cell_type": "code",
   "execution_count": null,
   "metadata": {},
   "outputs": [],
   "source": [
    "data.shape"
   ]
  },
  {
   "cell_type": "code",
   "execution_count": 6,
   "metadata": {},
   "outputs": [
    {
     "data": {
      "text/plain": [
       "array([[5.1, 3.5, 1.4, 0.2],\n",
       "       [4.9, 3. , 1.4, 0.2],\n",
       "       [4.7, 3.2, 1.3, 0.2],\n",
       "       [4.6, 3.1, 1.5, 0.2],\n",
       "       [5. , 3.6, 1.4, 0.2]])"
      ]
     },
     "execution_count": 6,
     "metadata": {},
     "output_type": "execute_result"
    }
   ],
   "source": [
    "data[:5,:]"
   ]
  },
  {
   "cell_type": "markdown",
   "metadata": {},
   "source": [
    "## Eigen-Decomposition"
   ]
  },
  {
   "cell_type": "markdown",
   "metadata": {},
   "source": [
    "1.Normalize columns of A so that each feature has zero mean"
   ]
  },
  {
   "cell_type": "code",
   "execution_count": 7,
   "metadata": {},
   "outputs": [
    {
     "name": "stdout",
     "output_type": "stream",
     "text": [
      "[-1.12502600e-15 -6.75015599e-16 -3.23889064e-15 -6.06921920e-16]\n"
     ]
    }
   ],
   "source": [
    "#Step1:\n",
    "mu=np.mean(data, axis=0)\n",
    "A= data-mu\n",
    "print(np.mean(A,axis=0))"
   ]
  },
  {
   "cell_type": "markdown",
   "metadata": {},
   "source": [
    "2.Compute simple covarience matrix sigma = {A.T}/{m-1}"
   ]
  },
  {
   "cell_type": "code",
   "execution_count": 8,
   "metadata": {},
   "outputs": [
    {
     "name": "stdout",
     "output_type": "stream",
     "text": [
      "[[ 0.68569351 -0.03926846  1.27368233  0.5169038 ]\n",
      " [-0.03926846  0.18800403 -0.32171275 -0.11798121]\n",
      " [ 1.27368233 -0.32171275  3.11317942  1.29638747]\n",
      " [ 0.5169038  -0.11798121  1.29638747  0.58241432]]\n"
     ]
    }
   ],
   "source": [
    "#Step2:\n",
    "m,n = A.shape\n",
    "sigma = (A.T@A)/(m-1)\n",
    "print(sigma)"
   ]
  },
  {
   "cell_type": "markdown",
   "metadata": {},
   "source": [
    "3.Perform eigen-decomposition of sigma using np.linalg.eig"
   ]
  },
  {
   "cell_type": "code",
   "execution_count": 9,
   "metadata": {},
   "outputs": [
    {
     "name": "stdout",
     "output_type": "stream",
     "text": [
      "[4.22484077 0.24224357 0.07852391 0.02368303]\n",
      "[[ 0.36158968 -0.65653988 -0.58099728  0.31725455]\n",
      " [-0.08226889 -0.72971237  0.59641809 -0.32409435]\n",
      " [ 0.85657211  0.1757674   0.07252408 -0.47971899]\n",
      " [ 0.35884393  0.07470647  0.54906091  0.75112056]]\n"
     ]
    }
   ],
   "source": [
    "# Step 3:\n",
    "l,x = np.linalg.eig(sigma)\n",
    "print(l)\n",
    "print(x)"
   ]
  },
  {
   "cell_type": "markdown",
   "metadata": {},
   "source": [
    "4.Compress by ordering evectors according to largect evalues"
   ]
  },
  {
   "cell_type": "code",
   "execution_count": 10,
   "metadata": {},
   "outputs": [
    {
     "name": "stdout",
     "output_type": "stream",
     "text": [
      "[[-2.68420713 -0.32660731 -0.02151184]\n",
      " [-2.71539062  0.16955685 -0.20352143]\n",
      " [-2.88981954  0.13734561  0.02470924]\n",
      " [-2.7464372   0.31112432  0.03767198]\n",
      " [-2.72859298 -0.33392456  0.0962297 ]]\n"
     ]
    }
   ],
   "source": [
    "# Step 4\n",
    "Acomp = A@x[:,:3]\n",
    "print(Acomp[:5,:])"
   ]
  },
  {
   "cell_type": "markdown",
   "metadata": {},
   "source": [
    "5.Reconstruct from compressed version"
   ]
  },
  {
   "cell_type": "code",
   "execution_count": 11,
   "metadata": {},
   "outputs": [
    {
     "name": "stdout",
     "output_type": "stream",
     "text": [
      "[[5.09968079 3.50032609 1.40048267 0.19924425]\n",
      " [4.86840068 3.03228058 1.44778117 0.12518657]\n",
      " [4.69387555 3.20625649 1.30926076 0.18549996]\n",
      " [4.62409716 3.07538332 1.46356281 0.25705157]\n",
      " [5.02002788 3.57954033 1.36971595 0.24741729]]\n"
     ]
    }
   ],
   "source": [
    "# Step 5\n",
    "Arec = A@ x[:,:3]@ x[:,:3].T\n",
    "print(Arec[:5,:]+mu)"
   ]
  },
  {
   "cell_type": "markdown",
   "metadata": {},
   "source": [
    "## Using Sklearn PCA"
   ]
  },
  {
   "cell_type": "code",
   "execution_count": 12,
   "metadata": {},
   "outputs": [],
   "source": [
    "from sklearn.decomposition import PCA"
   ]
  },
  {
   "cell_type": "code",
   "execution_count": 13,
   "metadata": {},
   "outputs": [
    {
     "data": {
      "text/plain": [
       "PCA(copy=True, iterated_power='auto', n_components=3, random_state=None,\n",
       "  svd_solver='auto', tol=0.0, whiten=False)"
      ]
     },
     "execution_count": 13,
     "metadata": {},
     "output_type": "execute_result"
    }
   ],
   "source": [
    "pca = PCA(n_components=3)\n",
    "pca.fit(data)"
   ]
  },
  {
   "cell_type": "code",
   "execution_count": 14,
   "metadata": {},
   "outputs": [
    {
     "name": "stdout",
     "output_type": "stream",
     "text": [
      "[[ 0.36158968 -0.08226889  0.85657211  0.35884393]\n",
      " [ 0.65653988  0.72971237 -0.1757674  -0.07470647]\n",
      " [-0.58099728  0.59641809  0.07252408  0.54906091]]\n"
     ]
    }
   ],
   "source": [
    "print(pca.components_)"
   ]
  },
  {
   "cell_type": "markdown",
   "metadata": {},
   "source": [
    "## Converted 3D data"
   ]
  },
  {
   "cell_type": "code",
   "execution_count": 15,
   "metadata": {},
   "outputs": [
    {
     "name": "stdout",
     "output_type": "stream",
     "text": [
      "[[-2.68420713  0.32660731 -0.02151184]\n",
      " [-2.71539062 -0.16955685 -0.20352143]\n",
      " [-2.88981954 -0.13734561  0.02470924]\n",
      " [-2.7464372  -0.31112432  0.03767198]\n",
      " [-2.72859298  0.33392456  0.0962297 ]]\n"
     ]
    }
   ],
   "source": [
    "print(pca.transform(data)[:5,:])"
   ]
  },
  {
   "cell_type": "markdown",
   "metadata": {},
   "source": [
    "## Plot 3D chart"
   ]
  },
  {
   "cell_type": "code",
   "execution_count": 16,
   "metadata": {},
   "outputs": [],
   "source": [
    "import seaborn as sns \n",
    "sns.set()"
   ]
  },
  {
   "cell_type": "code",
   "execution_count": 25,
   "metadata": {},
   "outputs": [
    {
     "data": {
      "image/png": "[encoded data removed]",
      "text/plain": [
       "<Figure size 432x288 with 1 Axes>"
      ]
     },
     "metadata": {},
     "output_type": "display_data"
    }
   ],
   "source": [
    "plt.plot(x[:,0],x[:,1],'o',alpha=0.8)\n",
    "for length,vector in zip (pca.explained_variance_,pca.components_):\n",
    "    v = vector * 3 * np.sqrt(length)\n",
    "    plt.plot([0,v[0]],[0,v[1]],'-k',lw=3)\n",
    "\n",
    "\n",
    "plt.axis('equal');"
   ]
  },
  {
   "cell_type": "code",
   "execution_count": null,
   "metadata": {},
   "outputs": [],
   "source": []
  }
 ],
 "metadata": {
  "kernelspec": {
   "display_name": "Python 3",
   "language": "python",
   "name": "python3"
  },
  "language_info": {
   "codemirror_mode": {
    "name": "ipython",
    "version": 3
   },
   "file_extension": ".py",
   "mimetype": "text/x-python",
   "name": "python",
   "nbconvert_exporter": "python",
   "pygments_lexer": "ipython3",
   "version": "3.6.5"
  }
 },
 "nbformat": 4,
 "nbformat_minor": 2
}
